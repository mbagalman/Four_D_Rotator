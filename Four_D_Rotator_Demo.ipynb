{
  "cells": [
    {
      "cell_type": "markdown",
      "metadata": {},
      "source": [
        "# 4D Rotator Demo\n",
        "\n",
        "This notebook lets you interactively explore 3D slices of a 4D hypercube.\n",
        "\n",
        "To run this notebook, make sure the `Four_D_Rotator` folder is in the same directory as this file, or install it by running `pip install .` from the root of the repository."
      ]
    },
    {
      "cell_type": "code",
      "execution_count": null,
      "metadata": {},
      "outputs": [],
      "source": [
        "# Standard imports\n",
        "from Four_D_Rotator.demos import interactive_demo\n",
        "interactive_demo()"
      ]
    },
    {
      "cell_type": "markdown",
      "metadata": {},
      "source": [
        "## Save Your Favorite Slice\n",
        "\n",
        "Find a rotation you like using the sliders above! Then copy the angle values into the dictionary below and run the cell to export your unique creation."
      ]
    },
    {
      "cell_type": "code",
      "execution_count": null,
      "metadata": {},
      "outputs": [],
      "source": [
        "from Four_D_Rotator.io_json import export_to_json\n",
        "from Four_D_Rotator.geometry import slice_tesseract\n",
        "\n",
        "# Replace these with your favorite settings\n",
        "my_angles = {\n",
        "    \"xy\": 0.6,\n",
        "    \"xz\": 0.7,\n",
        "    \"xw\": 0.9,\n",
        "    \"yw\": 1.2,\n",
        "    \"zw\": 0.3\n",
        "}\n",
        "\n",
        "verts, edges = slice_tesseract(my_angles)\n",
        "export_to_json(verts, edges, my_angles, filename=\"my_custom_slice.json\")\n",
        "print(\"✅ Slice exported as my_custom_slice.json\")"
      ]
    }
  ],
  "metadata": {
    "kernelspec": {
      "display_name": "Python 3",
      "language": "python",
      "name": "python3"
    },
    "language_info": {
      "name": "python",
      "version": "3.10"
    }
  },
  "nbformat": 4,
  "nbformat_minor": 2
}
